{
 "cells": [
  {
   "cell_type": "code",
   "execution_count": 17,
   "id": "a609332e-5f4a-4463-b2ae-e0f1e67cc393",
   "metadata": {},
   "outputs": [
    {
     "data": {
      "text/plain": [
       "'\\n   Read the “franzkafka.txt” file. \\n   Process the file to find out the number of characters, \\n   the number of lines, the number of words and the number of sentences in the text file.\\n'"
      ]
     },
     "execution_count": 17,
     "metadata": {},
     "output_type": "execute_result"
    }
   ],
   "source": [
    "# Read the “franzkafka.txt” file. \n",
    "# Process the file to find out the number of characters, \n",
    "# the number of lines, the number of words and the number of sentences in the text file."
   ]
  },
  {
   "cell_type": "code",
   "execution_count": 3,
   "id": "6f7c11e9-8896-47ba-ba77-064fd0f7bcbd",
   "metadata": {},
   "outputs": [
    {
     "name": "stdout",
     "output_type": "stream",
     "text": [
      "Name of the file: franzkafka.txt\n",
      "What's it's opening mode? r+\n",
      "Is this file closed?False \n",
      "Is this file closed?True \n"
     ]
    }
   ],
   "source": [
    "quotes = open(\"franzkafka.txt\", \"r+\")\n",
    "print(f\"Name of the file: {quotes.name}\" )\n",
    "\n",
    "print(f\"What's it's opening mode? {quotes.mode}\" )\n",
    "\n",
    "print(f\"Is this file closed?{quotes.closed} \")\n",
    "quotes.close()\n",
    "print(f\"Is this file closed?{quotes.closed} \")\n"
   ]
  },
  {
   "cell_type": "code",
   "execution_count": 3,
   "id": "b7cd2f9a-73c3-4f27-8ace-97b3d82c260b",
   "metadata": {},
   "outputs": [
    {
     "name": "stdout",
     "output_type": "stream",
     "text": [
      "['I', 't', 'h', 'i', 'n', 'k', 'w', 'e', 'o', 'u', 'g', 'h', 't', 't', 'o', 'r', 'e', 'a', 'd', 'o', 'n', 'l', 'y', 't', 'h', 'e', 'k', 'i', 'n', 'd', 'o', 'f', 'b', 'o', 'o', 'k', 's', 't', 'h', 'a', 't', 'w', 'o', 'u', 'n', 'd', 'o', 'r', 's', 't', 'a', 'b', 'u', 's', 'I', 'f', 't', 'h', 'e', 'b', 'o', 'o', 'k', 'w', 'e', 'r', 'e', 'r', 'e', 'a', 'd', 'i', 'n', 'g', 'd', 'o', 'e', 's', 'n', 't', 'w', 'a', 'k', 'e', 'u', 's', 'u', 'p', 'w', 'i', 't', 'h', 'a', 'b', 'l', 'o', 'w', 't', 'o', 't', 'h', 'e', 'h', 'e', 'a', 'd', 'w', 'h', 'a', 't', 'a', 'r', 'e', 'w', 'e', 'r', 'e', 'a', 'd', 'i', 'n', 'g', 'f', 'o', 'r', 'S', 'o', 't', 'h', 'a', 't', 'i', 't', 'w', 'i', 'l', 'l', 'm', 'a', 'k', 'e', 'u', 's', 'h', 'a', 'p', 'p', 'y', 'a', 's', 'y', 'o', 'u', 'w', 'r', 'i', 't', 'e', 'G', 'o', 'o', 'd', 'L', 'o', 'r', 'd', 'w', 'e', 'w', 'o', 'u', 'l', 'd', 'b', 'e', 'h', 'a', 'p', 'p', 'y', 'p', 'r', 'e', 'c', 'i', 's', 'e', 'l', 'y', 'i', 'f', 'w', 'e', 'h', 'a', 'd', 'n', 'o', 'b', 'o', 'o', 'k', 's', 'a', 'n', 'd', 't', 'h', 'e', 'k', 'i', 'n', 'd', 'o', 'f', 'b', 'o', 'o', 'k', 's', 't', 'h', 'a', 't', 'm', 'a', 'k', 'e', 'u', 's', 'h', 'a', 'p', 'p', 'y', 'a', 'r', 'e', 't', 'h', 'e', 'k', 'i', 'n', 'd', 'w', 'e', 'c', 'o', 'u', 'l', 'd', 'w', 'r', 'i', 't', 'e', 'o', 'u', 'r', 's', 'e', 'l', 'v', 'e', 's', 'i', 'f', 'w', 'e', 'h', 'a', 'd', 't', 'o', 'B', 'u', 't', 'w', 'e', 'n', 'e', 'e', 'd', 'b', 'o', 'o', 'k', 's', 't', 'h', 'a', 't', 'a', 'f', 'f', 'e', 'c', 't', 'u', 's', 'l', 'i', 'k', 'e', 'a', 'd', 'i', 's', 'a', 's', 't', 'e', 'r', 't', 'h', 'a', 't', 'g', 'r', 'i', 'e', 'v', 'e', 'u', 's', 'd', 'e', 'e', 'p', 'l', 'y', 'l', 'i', 'k', 'e', 't', 'h', 'e', 'd', 'e', 'a', 't', 'h', 'o', 'f', 's', 'o', 'm', 'e', 'o', 'n', 'e', 'w', 'e', 'l', 'o', 'v', 'e', 'd', 'm', 'o', 'r', 'e', 't', 'h', 'a', 'n', 'o', 'u', 'r', 's', 'e', 'l', 'v', 'e', 's', 'l', 'i', 'k', 'e', 'b', 'e', 'i', 'n', 'g', 'b', 'a', 'n', 'i', 's', 'h', 'e', 'd', 'i', 'n', 't', 'o', 'f', 'o', 'r', 'e', 's', 't', 's', 'f', 'a', 'r', 'f', 'r', 'o', 'm', 'e', 'v', 'e', 'r', 'y', 'o', 'n', 'e', 'l', 'i', 'k', 'e', 'a', 's', 'u', 'i', 'c', 'i', 'd', 'e', 'A', 'b', 'o', 'o', 'k', 'm', 'u', 's', 't', 'b', 'e', 't', 'h', 'e', 'a', 'x', 'e', 'f', 'o', 'r', 't', 'h', 'e', 'f', 'r', 'o', 'z', 'e', 'n', 's', 'e', 'a', 'w', 'i', 't', 'h', 'i', 'n', 'u', 's', 'T', 'h', 'a', 't', 'i', 's', 'm', 'y', 'b', 'e', 'l', 'i', 'e', 'f']\n",
      "What's number of characters? 486\n",
      "What's number of lines? 1\n",
      "What's number of words? 129\n",
      "What's number of sentences? 7\n"
     ]
    }
   ],
   "source": [
    "\n",
    "text_dict = {\n",
    "    'characters' : 0,\n",
    "    'lines' : 0,\n",
    "    'words' : 0,\n",
    "    'sentences' : 0\n",
    "}\n",
    "\n",
    "with open(\"franzkafka.txt\") as quotefile:\n",
    "    quotes = quotefile.read()\n",
    "    strip = quotes.replace(\".\", \"\").replace(\"\\n\", \"\").replace(\",\", \"\").replace(\"?\", \"\").replace(\" \", \"\").replace(\"'\", \"\")\n",
    "    chars = list(strip)\n",
    "\n",
    "    text_dict['characters'] = len(chars)\n",
    "    text_dict['lines'] = quotes.count(\"\\n\") + 1\n",
    "    text_dict['words'] = len(quotes.split())\n",
    "    text_dict['sentences'] = quotes.count(\".\") + quotes.count(\"?\")\n",
    "    print(chars)\n",
    "\n",
    "# Additionally, to see the final dictionary values\n",
    "print(f\"What's number of characters? {text_dict['characters']}\" )\n",
    "print(f\"What's number of lines? {text_dict['lines']}\" )\n",
    "print(f\"What's number of words? {text_dict['words']}\" )\n",
    "print(f\"What's number of sentences? {text_dict['sentences']}\" )\n"
   ]
  },
  {
   "cell_type": "code",
   "execution_count": 10,
   "id": "3b360430-5a9d-4c04-b273-ab6ecf4b8a30",
   "metadata": {},
   "outputs": [
    {
     "name": "stdin",
     "output_type": "stream",
     "text": [
      "Give me an adjective? cute\n",
      "Give me a verb? dance\n",
      "Give me a noun? Jamieleen\n",
      "Give me an anouther noun? Kathleen\n"
     ]
    },
    {
     "name": "stdout",
     "output_type": "stream",
     "text": [
      "The cute panda walked to the Jamieleen and then dance. A nearby Kathleen was unaffected by these events. \n",
      "['The', 'cute', 'panda', 'walked', 'to', 'the', 'NOUN', 'and', 'then', 'dance.', 'A', 'nearby', 'NOUN', 'was', 'unaffected', 'by', 'these', 'events.']\n"
     ]
    }
   ],
   "source": [
    "adjective = input(\"Give me an adjective?\")\n",
    "verb = input(\"Give me a verb?\")\n",
    "noun = input(\"Give me a noun?\")\n",
    "another_noun = input(\"Give me an anouther noun?\")\n",
    "\n",
    "with open('madlibs.txt') as madlibsfile:\n",
    "    madlibs = madlibsfile.read()\n",
    "    #replace is detect the word and change all\n",
    "    madlibs = madlibs.replace(\"ADJECTIVE\",adjective).replace(\"VERB\",verb)\n",
    "\n",
    "    count = 1 \n",
    "    newString = \"\"\n",
    "    split = madlibs.split()\n",
    "    for word in split:\n",
    "        if word ==\"NOUN\" and count == 1:\n",
    "            word = word.replace(\"NOUN\",noun)\n",
    "            count+=1\n",
    "        else:\n",
    "            word = word.replace(\"NOUN\", another_noun)\n",
    "\n",
    "        newString += word + \" \"\n",
    "print(newString)\n",
    "print(split)\n",
    "            \n",
    "            "
   ]
  },
  {
   "cell_type": "code",
   "execution_count": 12,
   "id": "c97de10c-9eea-486d-aaaa-4aae3dcdc996",
   "metadata": {},
   "outputs": [
    {
     "name": "stdout",
     "output_type": "stream",
     "text": [
      "done\n"
     ]
    }
   ],
   "source": [
    "outputmadlibsfile = open(\"outputmadlibsfile.txt\",\"w+\")\n",
    "outputmadlibsfile.write(newString)\n",
    "outputmadlibsfile.close()\n",
    "print(\"done\")"
   ]
  },
  {
   "cell_type": "code",
   "execution_count": 15,
   "id": "01898f12-7cdf-447d-a72f-2880287e91a7",
   "metadata": {},
   "outputs": [
    {
     "name": "stdout",
     "output_type": "stream",
     "text": [
      "The cute panda walked to the Jamieleen and then dance. A nearby Kathleen was unaffected by these events. \n"
     ]
    }
   ],
   "source": [
    "outputmadlibsfile = open(\"outputmadlibsfile.txt\",\"r+\")\n",
    "outputmadlibsfile = outputmadlibsfile.read()\n",
    "print(outputmadlibsfile)"
   ]
  },
  {
   "cell_type": "code",
   "execution_count": 1,
   "id": "200f7558-6b49-4360-8ef0-f68117e76a11",
   "metadata": {},
   "outputs": [
    {
     "name": "stdout",
     "output_type": "stream",
     "text": [
      "['both', 'female', 'male']\n",
      "['overall', 'bumi', 'chinese', 'indian', 'other', 'bumi_malay', 'bumi_other', 'other_citizen', 'other_noncitizen']\n"
     ]
    }
   ],
   "source": [
    "#for txt file dont need import but csv need\n",
    "import csv\n",
    "\n",
    "population_file = open(\"population_malaysia.csv\")\n",
    "populationReader = csv.reader(population_file)\n",
    "populationData = list(populationReader)\n",
    "\n",
    "# remove the header \"['date', 'sex', 'age', 'ethnicity', 'population']\"\n",
    "del populationData[0]\n",
    "\n",
    "gender =[]\n",
    "ethnicity =[]\n",
    "\n",
    "for data in populationData:\n",
    "    if data[1] not in gender:\n",
    "        gender.append(data[1])\n",
    "    if data[3] not in ethnicity:\n",
    "        ethnicity.append(data[3])\n",
    "\n",
    "print(gender)\n",
    "print(ethnicity)\n",
    "\n",
    "population_file.close()\n",
    "\n",
    "\n"
   ]
  },
  {
   "cell_type": "code",
   "execution_count": 7,
   "id": "2678306a-5f6d-4f74-bff4-612d7a119d56",
   "metadata": {},
   "outputs": [
    {
     "name": "stdout",
     "output_type": "stream",
     "text": [
      "done\n"
     ]
    }
   ],
   "source": [
    "pop_dict = {\n",
    "    'gender_count': len(gender),\n",
    "    'gender': gender,\n",
    "    'ethnicity_count': len(ethnicity),\n",
    "    'ethnicity': ethnicity,\n",
    "}\n",
    "\n",
    "pop_outputfile = open(\"population_malaysia_new.csv\", \"w\", newline=\"\")\n",
    "pop_outputWriter = csv.writer(pop_outputfile)\n",
    "\n",
    "pop_outputWriter.writerow(pop_dict.keys())\n",
    "pop_outputWriter.writerow(pop_dict.values())\n",
    "pop_outputfile.close()\n",
    "\n",
    "print(\"done\")"
   ]
  },
  {
   "cell_type": "code",
   "execution_count": 8,
   "id": "c90c8456-cdea-44d7-b759-48cf706875e8",
   "metadata": {},
   "outputs": [],
   "source": [
    "# visualization: matplotlib, seaborn\n",
    "# analyze: numpy, array\n",
    "# Final Exam\n",
    "# 1. theory\n",
    "# 2. control structure, is-else/loop\n",
    "# 3. file handling/ structured type: list and dict\n",
    "# 4. data analytic/ statistic method/ data visualization\n",
    "# test can use AI[Python only]"
   ]
  },
  {
   "cell_type": "code",
   "execution_count": null,
   "id": "daa81aba-c6e4-409f-9048-0f6456990e1c",
   "metadata": {},
   "outputs": [],
   "source": []
  }
 ],
 "metadata": {
  "kernelspec": {
   "display_name": "Python 3 (ipykernel)",
   "language": "python",
   "name": "python3"
  },
  "language_info": {
   "codemirror_mode": {
    "name": "ipython",
    "version": 3
   },
   "file_extension": ".py",
   "mimetype": "text/x-python",
   "name": "python",
   "nbconvert_exporter": "python",
   "pygments_lexer": "ipython3",
   "version": "3.12.3"
  }
 },
 "nbformat": 4,
 "nbformat_minor": 5
}
