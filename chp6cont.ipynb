{
 "cells": [
  {
   "cell_type": "code",
   "execution_count": 5,
   "id": "b6fa045a-1a05-4897-a874-eec06a230b8c",
   "metadata": {},
   "outputs": [],
   "source": [
    "import pandas as pd\n",
    "\n",
    "covid = pd.read_csv(\"covid_19.csv\")\n",
    "\n",
    "#fill/dropNa not everytime suitable \n"
   ]
  },
  {
   "cell_type": "code",
   "execution_count": 21,
   "id": "3645556d-1886-4558-a5ee-14a37c7a6711",
   "metadata": {},
   "outputs": [
    {
     "ename": "AttributeError",
     "evalue": "'DataFrame' object has no attribute 'cases'",
     "output_type": "error",
     "traceback": [
      "\u001b[1;31m---------------------------------------------------------------------------\u001b[0m",
      "\u001b[1;31mAttributeError\u001b[0m                            Traceback (most recent call last)",
      "Cell \u001b[1;32mIn[21], line 14\u001b[0m\n\u001b[0;32m     12\u001b[0m covid_dict[\u001b[38;5;124m\"\u001b[39m\u001b[38;5;124mCountry\u001b[39m\u001b[38;5;124m\"\u001b[39m] \u001b[38;5;241m=\u001b[39m grp_content\u001b[38;5;241m.\u001b[39mcountry\u001b[38;5;241m.\u001b[39mcount()\n\u001b[0;32m     13\u001b[0m covid_dict[\u001b[38;5;124m\"\u001b[39m\u001b[38;5;124mPopulation\u001b[39m\u001b[38;5;124m\"\u001b[39m] \u001b[38;5;241m=\u001b[39m grp_content\u001b[38;5;241m.\u001b[39mpopulation\u001b[38;5;241m.\u001b[39msum()\n\u001b[1;32m---> 14\u001b[0m covid_dict[\u001b[38;5;124m\"\u001b[39m\u001b[38;5;124mCases\u001b[39m\u001b[38;5;124m\"\u001b[39m] \u001b[38;5;241m=\u001b[39m grp_content\u001b[38;5;241m.\u001b[39mcases\u001b[38;5;241m.\u001b[39msum()\n\u001b[0;32m     15\u001b[0m covid_dict[\u001b[38;5;124m\"\u001b[39m\u001b[38;5;124mRecovered\u001b[39m\u001b[38;5;124m\"\u001b[39m] \u001b[38;5;241m=\u001b[39m grp_content\u001b[38;5;241m.\u001b[39mrecovered\u001b[38;5;241m.\u001b[39msum()\n\u001b[0;32m     16\u001b[0m covid_dict[\u001b[38;5;124m\"\u001b[39m\u001b[38;5;124mDeath\u001b[39m\u001b[38;5;124m\"\u001b[39m] \u001b[38;5;241m=\u001b[39m grp_content\u001b[38;5;241m.\u001b[39mdeath\u001b[38;5;241m.\u001b[39msum()\n",
      "File \u001b[1;32m~\\anaconda3\\Lib\\site-packages\\pandas\\core\\generic.py:6299\u001b[0m, in \u001b[0;36mNDFrame.__getattr__\u001b[1;34m(self, name)\u001b[0m\n\u001b[0;32m   6292\u001b[0m \u001b[38;5;28;01mif\u001b[39;00m (\n\u001b[0;32m   6293\u001b[0m     name \u001b[38;5;129;01mnot\u001b[39;00m \u001b[38;5;129;01min\u001b[39;00m \u001b[38;5;28mself\u001b[39m\u001b[38;5;241m.\u001b[39m_internal_names_set\n\u001b[0;32m   6294\u001b[0m     \u001b[38;5;129;01mand\u001b[39;00m name \u001b[38;5;129;01mnot\u001b[39;00m \u001b[38;5;129;01min\u001b[39;00m \u001b[38;5;28mself\u001b[39m\u001b[38;5;241m.\u001b[39m_metadata\n\u001b[0;32m   6295\u001b[0m     \u001b[38;5;129;01mand\u001b[39;00m name \u001b[38;5;129;01mnot\u001b[39;00m \u001b[38;5;129;01min\u001b[39;00m \u001b[38;5;28mself\u001b[39m\u001b[38;5;241m.\u001b[39m_accessors\n\u001b[0;32m   6296\u001b[0m     \u001b[38;5;129;01mand\u001b[39;00m \u001b[38;5;28mself\u001b[39m\u001b[38;5;241m.\u001b[39m_info_axis\u001b[38;5;241m.\u001b[39m_can_hold_identifiers_and_holds_name(name)\n\u001b[0;32m   6297\u001b[0m ):\n\u001b[0;32m   6298\u001b[0m     \u001b[38;5;28;01mreturn\u001b[39;00m \u001b[38;5;28mself\u001b[39m[name]\n\u001b[1;32m-> 6299\u001b[0m \u001b[38;5;28;01mreturn\u001b[39;00m \u001b[38;5;28mobject\u001b[39m\u001b[38;5;241m.\u001b[39m\u001b[38;5;21m__getattribute__\u001b[39m(\u001b[38;5;28mself\u001b[39m, name)\n",
      "\u001b[1;31mAttributeError\u001b[0m: 'DataFrame' object has no attribute 'cases'"
     ]
    }
   ],
   "source": [
    "grp_continent = covid.groupby(\"continent\")\n",
    "\n",
    "covid_list=[]\n",
    "for grp,grp_content in grp_continent:\n",
    "   \n",
    "    # print(f\"Name : {grp}\")\n",
    "    # print(f\"Country Count: {grp_content.country.count()}\")\n",
    "\n",
    "    # put it in dictionaries \n",
    "    covid_dict = {}\n",
    "    covid_dict[\"Continent\"] = grp\n",
    "    covid_dict[\"Country\"] = grp_content.country.count()\n",
    "    covid_dict[\"Population\"] = grp_content.population.sum()\n",
    "    covid_dict[\"Cases\"] = grp_content.cases.sum()\n",
    "    covid_dict[\"Recovered\"] = grp_content.recovered.sum()\n",
    "    covid_dict[\"Death\"] = grp_content.death.sum()\n",
    "    covid_dict[\"Tests\"] = grp_content.tests.sum()\n",
    "\n",
    "    covid_list.append(covid_dict)\n",
    "\n",
    "covid_df = pd.DataFrame(covid_list)\n",
    "covid_df"
   ]
  },
  {
   "cell_type": "code",
   "execution_count": 17,
   "id": "63251a18-47a3-4b48-b5d6-e8d6956f1875",
   "metadata": {},
   "outputs": [
    {
     "data": {
      "text/html": [
       "<div>\n",
       "<style scoped>\n",
       "    .dataframe tbody tr th:only-of-type {\n",
       "        vertical-align: middle;\n",
       "    }\n",
       "\n",
       "    .dataframe tbody tr th {\n",
       "        vertical-align: top;\n",
       "    }\n",
       "\n",
       "    .dataframe thead th {\n",
       "        text-align: right;\n",
       "    }\n",
       "</style>\n",
       "<table border=\"1\" class=\"dataframe\">\n",
       "  <thead>\n",
       "    <tr style=\"text-align: right;\">\n",
       "      <th></th>\n",
       "      <th>Continent</th>\n",
       "      <th>Country</th>\n",
       "      <th>Population</th>\n",
       "    </tr>\n",
       "  </thead>\n",
       "  <tbody>\n",
       "    <tr>\n",
       "      <th>0</th>\n",
       "      <td>Africa</td>\n",
       "      <td>59</td>\n",
       "      <td>1.406729e+09</td>\n",
       "    </tr>\n",
       "    <tr>\n",
       "      <th>2</th>\n",
       "      <td>Asia</td>\n",
       "      <td>51</td>\n",
       "      <td>4.711357e+09</td>\n",
       "    </tr>\n",
       "    <tr>\n",
       "      <th>3</th>\n",
       "      <td>Europe</td>\n",
       "      <td>49</td>\n",
       "      <td>7.475438e+08</td>\n",
       "    </tr>\n",
       "    <tr>\n",
       "      <th>4</th>\n",
       "      <td>North-America</td>\n",
       "      <td>40</td>\n",
       "      <td>5.981409e+08</td>\n",
       "    </tr>\n",
       "    <tr>\n",
       "      <th>5</th>\n",
       "      <td>Oceania</td>\n",
       "      <td>21</td>\n",
       "      <td>4.347041e+07</td>\n",
       "    </tr>\n",
       "    <tr>\n",
       "      <th>6</th>\n",
       "      <td>South-America</td>\n",
       "      <td>15</td>\n",
       "      <td>4.376944e+08</td>\n",
       "    </tr>\n",
       "  </tbody>\n",
       "</table>\n",
       "</div>"
      ],
      "text/plain": [
       "       Continent  Country    Population\n",
       "0         Africa       59  1.406729e+09\n",
       "2           Asia       51  4.711357e+09\n",
       "3         Europe       49  7.475438e+08\n",
       "4  North-America       40  5.981409e+08\n",
       "5        Oceania       21  4.347041e+07\n",
       "6  South-America       15  4.376944e+08"
      ]
     },
     "execution_count": 17,
     "metadata": {},
     "output_type": "execute_result"
    }
   ],
   "source": [
    "# we dont want the row of All\n",
    "covid_df = covid_df.drop(1)\n",
    "covid_df"
   ]
  },
  {
   "cell_type": "code",
   "execution_count": 18,
   "id": "74e3e9e2-8246-43ef-ab76-c2281669ebd4",
   "metadata": {},
   "outputs": [
    {
     "data": {
      "text/html": [
       "<div>\n",
       "<style scoped>\n",
       "    .dataframe tbody tr th:only-of-type {\n",
       "        vertical-align: middle;\n",
       "    }\n",
       "\n",
       "    .dataframe tbody tr th {\n",
       "        vertical-align: top;\n",
       "    }\n",
       "\n",
       "    .dataframe thead th {\n",
       "        text-align: right;\n",
       "    }\n",
       "</style>\n",
       "<table border=\"1\" class=\"dataframe\">\n",
       "  <thead>\n",
       "    <tr style=\"text-align: right;\">\n",
       "      <th></th>\n",
       "      <th>Continent</th>\n",
       "      <th>Country</th>\n",
       "      <th>Population</th>\n",
       "    </tr>\n",
       "  </thead>\n",
       "  <tbody>\n",
       "    <tr>\n",
       "      <th>0</th>\n",
       "      <td>Africa</td>\n",
       "      <td>59</td>\n",
       "      <td>1.406729e+09</td>\n",
       "    </tr>\n",
       "    <tr>\n",
       "      <th>1</th>\n",
       "      <td>Asia</td>\n",
       "      <td>51</td>\n",
       "      <td>4.711357e+09</td>\n",
       "    </tr>\n",
       "    <tr>\n",
       "      <th>2</th>\n",
       "      <td>Europe</td>\n",
       "      <td>49</td>\n",
       "      <td>7.475438e+08</td>\n",
       "    </tr>\n",
       "    <tr>\n",
       "      <th>3</th>\n",
       "      <td>North-America</td>\n",
       "      <td>40</td>\n",
       "      <td>5.981409e+08</td>\n",
       "    </tr>\n",
       "    <tr>\n",
       "      <th>4</th>\n",
       "      <td>Oceania</td>\n",
       "      <td>21</td>\n",
       "      <td>4.347041e+07</td>\n",
       "    </tr>\n",
       "    <tr>\n",
       "      <th>5</th>\n",
       "      <td>South-America</td>\n",
       "      <td>15</td>\n",
       "      <td>4.376944e+08</td>\n",
       "    </tr>\n",
       "  </tbody>\n",
       "</table>\n",
       "</div>"
      ],
      "text/plain": [
       "       Continent  Country    Population\n",
       "0         Africa       59  1.406729e+09\n",
       "1           Asia       51  4.711357e+09\n",
       "2         Europe       49  7.475438e+08\n",
       "3  North-America       40  5.981409e+08\n",
       "4        Oceania       21  4.347041e+07\n",
       "5  South-America       15  4.376944e+08"
      ]
     },
     "execution_count": 18,
     "metadata": {},
     "output_type": "execute_result"
    }
   ],
   "source": [
    "covid_df = covid_df.reset_index(drop=True)\n",
    "covid_df"
   ]
  },
  {
   "cell_type": "code",
   "execution_count": 19,
   "id": "a29bb0f0-df88-4861-ba9f-587370ff6939",
   "metadata": {},
   "outputs": [
    {
     "data": {
      "text/html": [
       "<div>\n",
       "<style scoped>\n",
       "    .dataframe tbody tr th:only-of-type {\n",
       "        vertical-align: middle;\n",
       "    }\n",
       "\n",
       "    .dataframe tbody tr th {\n",
       "        vertical-align: top;\n",
       "    }\n",
       "\n",
       "    .dataframe thead th {\n",
       "        text-align: right;\n",
       "    }\n",
       "</style>\n",
       "<table border=\"1\" class=\"dataframe\">\n",
       "  <thead>\n",
       "    <tr style=\"text-align: right;\">\n",
       "      <th></th>\n",
       "      <th>Country</th>\n",
       "      <th>Population</th>\n",
       "    </tr>\n",
       "  </thead>\n",
       "  <tbody>\n",
       "    <tr>\n",
       "      <th>Country</th>\n",
       "      <td>1.000000</td>\n",
       "      <td>0.530576</td>\n",
       "    </tr>\n",
       "    <tr>\n",
       "      <th>Population</th>\n",
       "      <td>0.530576</td>\n",
       "      <td>1.000000</td>\n",
       "    </tr>\n",
       "  </tbody>\n",
       "</table>\n",
       "</div>"
      ],
      "text/plain": [
       "             Country  Population\n",
       "Country     1.000000    0.530576\n",
       "Population  0.530576    1.000000"
      ]
     },
     "execution_count": 19,
     "metadata": {},
     "output_type": "execute_result"
    }
   ],
   "source": [
    "covid_df.corr(numeric_only= True)\n",
    "\n",
    "# when XXX is 1.0 then other is how many mean the more/less, the more/less\n",
    "# from row to see each col is apa\n",
    "# There is a positive relationship between population and cases, whereby ...\n",
    "# There is a significant positive correlation between Case and Test. IN which the higher the number of test administered , the higher yhe number of cases discovered\n",
    "# but how come the recovered higher, death higher(Dont Write This)"
   ]
  },
  {
   "cell_type": "code",
   "execution_count": null,
   "id": "e50eda0f-d6a9-435e-9366-3a1192e3740b",
   "metadata": {},
   "outputs": [],
   "source": []
  }
 ],
 "metadata": {
  "kernelspec": {
   "display_name": "Python 3 (ipykernel)",
   "language": "python",
   "name": "python3"
  },
  "language_info": {
   "codemirror_mode": {
    "name": "ipython",
    "version": 3
   },
   "file_extension": ".py",
   "mimetype": "text/x-python",
   "name": "python",
   "nbconvert_exporter": "python",
   "pygments_lexer": "ipython3",
   "version": "3.12.3"
  }
 },
 "nbformat": 4,
 "nbformat_minor": 5
}
